{
 "cells": [
  {
   "cell_type": "code",
   "execution_count": 1,
   "id": "365c76d0-959a-4ba3-98d8-ca102a040d17",
   "metadata": {},
   "outputs": [],
   "source": [
    "# Import necessary libraries \n",
    "import pandas as pd\n",
    "import numpy as np\n",
    "import missingno as msno\n",
    "\n",
    "#Visualization\n",
    "import matplotlib.pyplot as plt\n",
    "import seaborn as sns\n",
    "\n",
    "#Model Selection\n",
    "from sklearn.model_selection import train_test_split, GridSearchCV, cross_val_score\n",
    "from sklearn.ensemble import GradientBoostingRegressor\n",
    "from sklearn.metrics import mean_squared_error, r2_score\n",
    "from sklearn.preprocessing import StandardScaler, OneHotEncoder\n",
    "from sklearn.compose import ColumnTransformer\n",
    "from sklearn.pipeline import Pipeline\n",
    "\n",
    "#Ignore Warning\n",
    "import sys\n",
    "import warnings\n",
    "if not sys.warnoptions:\n",
    "    warnings.simplefilter(\"ignore\")\n",
    "\n",
    "#Set Max Columns\n",
    "pd.set_option('display.max_columns', None)\n",
    "\n",
    "#Save Model\n",
    "import pickle"
   ]
  },
  {
   "cell_type": "code",
   "execution_count": 2,
   "id": "b21d0e53-b53b-4096-9051-332f8f1b7249",
   "metadata": {},
   "outputs": [
    {
     "data": {
      "text/html": [
       "<div>\n",
       "<style scoped>\n",
       "    .dataframe tbody tr th:only-of-type {\n",
       "        vertical-align: middle;\n",
       "    }\n",
       "\n",
       "    .dataframe tbody tr th {\n",
       "        vertical-align: top;\n",
       "    }\n",
       "\n",
       "    .dataframe thead th {\n",
       "        text-align: right;\n",
       "    }\n",
       "</style>\n",
       "<table border=\"1\" class=\"dataframe\">\n",
       "  <thead>\n",
       "    <tr style=\"text-align: right;\">\n",
       "      <th></th>\n",
       "      <th>dteday</th>\n",
       "      <th>hum</th>\n",
       "      <th>weathersit</th>\n",
       "      <th>holiday</th>\n",
       "      <th>season</th>\n",
       "      <th>atemp</th>\n",
       "      <th>temp</th>\n",
       "      <th>hr</th>\n",
       "      <th>casual</th>\n",
       "      <th>registered</th>\n",
       "      <th>cnt</th>\n",
       "    </tr>\n",
       "  </thead>\n",
       "  <tbody>\n",
       "    <tr>\n",
       "      <th>0</th>\n",
       "      <td>2011-12-09</td>\n",
       "      <td>0.62</td>\n",
       "      <td>1</td>\n",
       "      <td>0</td>\n",
       "      <td>4</td>\n",
       "      <td>0.3485</td>\n",
       "      <td>0.36</td>\n",
       "      <td>16</td>\n",
       "      <td>24</td>\n",
       "      <td>226</td>\n",
       "      <td>250</td>\n",
       "    </tr>\n",
       "    <tr>\n",
       "      <th>1</th>\n",
       "      <td>2012-06-17</td>\n",
       "      <td>0.64</td>\n",
       "      <td>1</td>\n",
       "      <td>0</td>\n",
       "      <td>2</td>\n",
       "      <td>0.5152</td>\n",
       "      <td>0.54</td>\n",
       "      <td>4</td>\n",
       "      <td>2</td>\n",
       "      <td>16</td>\n",
       "      <td>18</td>\n",
       "    </tr>\n",
       "    <tr>\n",
       "      <th>2</th>\n",
       "      <td>2011-06-15</td>\n",
       "      <td>0.53</td>\n",
       "      <td>1</td>\n",
       "      <td>0</td>\n",
       "      <td>2</td>\n",
       "      <td>0.6212</td>\n",
       "      <td>0.62</td>\n",
       "      <td>23</td>\n",
       "      <td>17</td>\n",
       "      <td>90</td>\n",
       "      <td>107</td>\n",
       "    </tr>\n",
       "    <tr>\n",
       "      <th>3</th>\n",
       "      <td>2012-03-31</td>\n",
       "      <td>0.87</td>\n",
       "      <td>2</td>\n",
       "      <td>0</td>\n",
       "      <td>2</td>\n",
       "      <td>0.3485</td>\n",
       "      <td>0.36</td>\n",
       "      <td>8</td>\n",
       "      <td>19</td>\n",
       "      <td>126</td>\n",
       "      <td>145</td>\n",
       "    </tr>\n",
       "    <tr>\n",
       "      <th>4</th>\n",
       "      <td>2012-07-31</td>\n",
       "      <td>0.55</td>\n",
       "      <td>1</td>\n",
       "      <td>0</td>\n",
       "      <td>3</td>\n",
       "      <td>0.6970</td>\n",
       "      <td>0.76</td>\n",
       "      <td>18</td>\n",
       "      <td>99</td>\n",
       "      <td>758</td>\n",
       "      <td>857</td>\n",
       "    </tr>\n",
       "    <tr>\n",
       "      <th>...</th>\n",
       "      <td>...</td>\n",
       "      <td>...</td>\n",
       "      <td>...</td>\n",
       "      <td>...</td>\n",
       "      <td>...</td>\n",
       "      <td>...</td>\n",
       "      <td>...</td>\n",
       "      <td>...</td>\n",
       "      <td>...</td>\n",
       "      <td>...</td>\n",
       "      <td>...</td>\n",
       "    </tr>\n",
       "    <tr>\n",
       "      <th>12160</th>\n",
       "      <td>2012-01-25</td>\n",
       "      <td>0.75</td>\n",
       "      <td>1</td>\n",
       "      <td>0</td>\n",
       "      <td>1</td>\n",
       "      <td>0.2273</td>\n",
       "      <td>0.24</td>\n",
       "      <td>7</td>\n",
       "      <td>14</td>\n",
       "      <td>243</td>\n",
       "      <td>257</td>\n",
       "    </tr>\n",
       "    <tr>\n",
       "      <th>12161</th>\n",
       "      <td>2012-07-06</td>\n",
       "      <td>0.62</td>\n",
       "      <td>1</td>\n",
       "      <td>0</td>\n",
       "      <td>3</td>\n",
       "      <td>0.7424</td>\n",
       "      <td>0.78</td>\n",
       "      <td>0</td>\n",
       "      <td>39</td>\n",
       "      <td>63</td>\n",
       "      <td>102</td>\n",
       "    </tr>\n",
       "    <tr>\n",
       "      <th>12162</th>\n",
       "      <td>2012-02-20</td>\n",
       "      <td>0.60</td>\n",
       "      <td>2</td>\n",
       "      <td>1</td>\n",
       "      <td>1</td>\n",
       "      <td>0.2121</td>\n",
       "      <td>0.24</td>\n",
       "      <td>5</td>\n",
       "      <td>0</td>\n",
       "      <td>6</td>\n",
       "      <td>6</td>\n",
       "    </tr>\n",
       "    <tr>\n",
       "      <th>12163</th>\n",
       "      <td>2012-03-31</td>\n",
       "      <td>0.77</td>\n",
       "      <td>2</td>\n",
       "      <td>0</td>\n",
       "      <td>2</td>\n",
       "      <td>0.4242</td>\n",
       "      <td>0.42</td>\n",
       "      <td>2</td>\n",
       "      <td>14</td>\n",
       "      <td>55</td>\n",
       "      <td>69</td>\n",
       "    </tr>\n",
       "    <tr>\n",
       "      <th>12164</th>\n",
       "      <td>2011-04-28</td>\n",
       "      <td>0.47</td>\n",
       "      <td>1</td>\n",
       "      <td>0</td>\n",
       "      <td>2</td>\n",
       "      <td>0.6212</td>\n",
       "      <td>0.64</td>\n",
       "      <td>18</td>\n",
       "      <td>44</td>\n",
       "      <td>486</td>\n",
       "      <td>530</td>\n",
       "    </tr>\n",
       "  </tbody>\n",
       "</table>\n",
       "<p>12165 rows × 11 columns</p>\n",
       "</div>"
      ],
      "text/plain": [
       "           dteday   hum  weathersit  holiday  season   atemp  temp  hr  \\\n",
       "0      2011-12-09  0.62           1        0       4  0.3485  0.36  16   \n",
       "1      2012-06-17  0.64           1        0       2  0.5152  0.54   4   \n",
       "2      2011-06-15  0.53           1        0       2  0.6212  0.62  23   \n",
       "3      2012-03-31  0.87           2        0       2  0.3485  0.36   8   \n",
       "4      2012-07-31  0.55           1        0       3  0.6970  0.76  18   \n",
       "...           ...   ...         ...      ...     ...     ...   ...  ..   \n",
       "12160  2012-01-25  0.75           1        0       1  0.2273  0.24   7   \n",
       "12161  2012-07-06  0.62           1        0       3  0.7424  0.78   0   \n",
       "12162  2012-02-20  0.60           2        1       1  0.2121  0.24   5   \n",
       "12163  2012-03-31  0.77           2        0       2  0.4242  0.42   2   \n",
       "12164  2011-04-28  0.47           1        0       2  0.6212  0.64  18   \n",
       "\n",
       "       casual  registered  cnt  \n",
       "0          24         226  250  \n",
       "1           2          16   18  \n",
       "2          17          90  107  \n",
       "3          19         126  145  \n",
       "4          99         758  857  \n",
       "...       ...         ...  ...  \n",
       "12160      14         243  257  \n",
       "12161      39          63  102  \n",
       "12162       0           6    6  \n",
       "12163      14          55   69  \n",
       "12164      44         486  530  \n",
       "\n",
       "[12165 rows x 11 columns]"
      ]
     },
     "execution_count": 2,
     "metadata": {},
     "output_type": "execute_result"
    }
   ],
   "source": [
    "df = pd.read_csv(\"data_bike_sharing.csv\", low_memory=False) #increase effeciency\n",
    "df_backup = pd.read_csv(\"data_bike_sharing.csv\")\n",
    "df"
   ]
  },
  {
   "cell_type": "code",
   "execution_count": 3,
   "id": "6c3a2388-7a1e-4aa5-a568-fcf52af8e62d",
   "metadata": {},
   "outputs": [
    {
     "name": "stdout",
     "output_type": "stream",
     "text": [
      "<class 'pandas.core.frame.DataFrame'>\n",
      "RangeIndex: 12165 entries, 0 to 12164\n",
      "Data columns (total 11 columns):\n",
      " #   Column      Non-Null Count  Dtype  \n",
      "---  ------      --------------  -----  \n",
      " 0   dteday      12165 non-null  object \n",
      " 1   hum         12165 non-null  float64\n",
      " 2   weathersit  12165 non-null  int64  \n",
      " 3   holiday     12165 non-null  int64  \n",
      " 4   season      12165 non-null  int64  \n",
      " 5   atemp       12165 non-null  float64\n",
      " 6   temp        12165 non-null  float64\n",
      " 7   hr          12165 non-null  int64  \n",
      " 8   casual      12165 non-null  int64  \n",
      " 9   registered  12165 non-null  int64  \n",
      " 10  cnt         12165 non-null  int64  \n",
      "dtypes: float64(3), int64(7), object(1)\n",
      "memory usage: 1.0+ MB\n"
     ]
    }
   ],
   "source": [
    "#Count and Datatype for Each Column\n",
    "df.info()"
   ]
  },
  {
   "cell_type": "markdown",
   "id": "d2ce7e5b-f7d1-491a-b243-47c305837d9e",
   "metadata": {},
   "source": [
    "Data Cleaning (Missing Values, Outliers, Duplicate Values)"
   ]
  },
  {
   "cell_type": "code",
   "execution_count": 15,
   "id": "dde4cc75-48da-4394-8f80-1c3ede54706a",
   "metadata": {},
   "outputs": [],
   "source": [
    "#Mengubah kolom 'claim' (target) menjadi nilai 0 untuk tidak claim dan 1 untuk yang Claim\n",
    "import numpy as np\n",
    "import pandas as pd\n",
    "df = pd.DataFrame({'Claim': ['Yes', 'No', 'Yes', 'No']})\n",
    "df['Claim'] = np.where(df['Claim']=='Yes', 1, 0)"
   ]
  },
  {
   "cell_type": "code",
   "execution_count": 6,
   "id": "9f6f354e-62a2-4585-a444-5e703f7952eb",
   "metadata": {},
   "outputs": [],
   "source": [
    "#Mengubah Nama Kolom \"Commission\" (in value) Menjadi \"Commision\" (tanpa in value)\n",
    "##Tidak Pakai\n",
    "df = df.rename(columns={'Commission (in value)': 'Commision'})"
   ]
  },
  {
   "cell_type": "code",
   "execution_count": 7,
   "id": "9a523397-019f-44f3-b458-3428e4c9b602",
   "metadata": {},
   "outputs": [
    {
     "data": {
      "text/html": [
       "<div>\n",
       "<style scoped>\n",
       "    .dataframe tbody tr th:only-of-type {\n",
       "        vertical-align: middle;\n",
       "    }\n",
       "\n",
       "    .dataframe tbody tr th {\n",
       "        vertical-align: top;\n",
       "    }\n",
       "\n",
       "    .dataframe thead th {\n",
       "        text-align: right;\n",
       "    }\n",
       "</style>\n",
       "<table border=\"1\" class=\"dataframe\">\n",
       "  <thead>\n",
       "    <tr style=\"text-align: right;\">\n",
       "      <th></th>\n",
       "      <th>Claim</th>\n",
       "    </tr>\n",
       "  </thead>\n",
       "  <tbody>\n",
       "    <tr>\n",
       "      <th>0</th>\n",
       "      <td>1</td>\n",
       "    </tr>\n",
       "    <tr>\n",
       "      <th>1</th>\n",
       "      <td>0</td>\n",
       "    </tr>\n",
       "    <tr>\n",
       "      <th>2</th>\n",
       "      <td>1</td>\n",
       "    </tr>\n",
       "    <tr>\n",
       "      <th>3</th>\n",
       "      <td>0</td>\n",
       "    </tr>\n",
       "  </tbody>\n",
       "</table>\n",
       "</div>"
      ],
      "text/plain": [
       "   Claim\n",
       "0      1\n",
       "1      0\n",
       "2      1\n",
       "3      0"
      ]
     },
     "execution_count": 7,
     "metadata": {},
     "output_type": "execute_result"
    }
   ],
   "source": [
    "#Mengubah nama kolom 'Commision' (tanpa in values)\n",
    "df = df.rename(columns = {'Commision (in value)':'Commision'})\n",
    "df"
   ]
  },
  {
   "cell_type": "code",
   "execution_count": 8,
   "id": "996c5010-8826-49f2-8558-8a171ade75b6",
   "metadata": {},
   "outputs": [
    {
     "data": {
      "text/html": [
       "<div>\n",
       "<style scoped>\n",
       "    .dataframe tbody tr th:only-of-type {\n",
       "        vertical-align: middle;\n",
       "    }\n",
       "\n",
       "    .dataframe tbody tr th {\n",
       "        vertical-align: top;\n",
       "    }\n",
       "\n",
       "    .dataframe thead th {\n",
       "        text-align: right;\n",
       "    }\n",
       "</style>\n",
       "<table border=\"1\" class=\"dataframe\">\n",
       "  <thead>\n",
       "    <tr style=\"text-align: right;\">\n",
       "      <th></th>\n",
       "      <th>dataFeatures</th>\n",
       "      <th>dataType</th>\n",
       "      <th>null</th>\n",
       "      <th>nullPct</th>\n",
       "      <th>unique</th>\n",
       "      <th>uniqueSample</th>\n",
       "    </tr>\n",
       "  </thead>\n",
       "  <tbody>\n",
       "    <tr>\n",
       "      <th>0</th>\n",
       "      <td>Claim</td>\n",
       "      <td>int64</td>\n",
       "      <td>0</td>\n",
       "      <td>0.0</td>\n",
       "      <td>2</td>\n",
       "      <td>[1, 0]</td>\n",
       "    </tr>\n",
       "  </tbody>\n",
       "</table>\n",
       "</div>"
      ],
      "text/plain": [
       "  dataFeatures dataType  null  nullPct  unique uniqueSample\n",
       "0        Claim    int64     0      0.0       2       [1, 0]"
      ]
     },
     "execution_count": 8,
     "metadata": {},
     "output_type": "execute_result"
    }
   ],
   "source": [
    "# Mengatur opsi tampilan\n",
    "pd.set_option('display.max_colwidth', None)\n",
    "\n",
    "# Membuat list untuk menyimpan informasi kolom\n",
    "listItem = []\n",
    "for col in df.columns: listItem.append([col, str(df[col].dtype), df[col].isna().sum(), round((df[col].isna().sum()/len(df[col]))*100, 2), df[col].nunique(), list(df[col].drop_duplicates().values)])\n",
    "\n",
    "# Membuat DataFrame dengan kolom yang sesuai\n",
    "dfDesc = pd.DataFrame(columns=['dataFeatures', 'dataType', 'null', 'nullPct', 'unique', 'uniqueSample'], data=listItem)\n",
    "\n",
    "# Menampilkan DataFrame\n",
    "dfDesc"
   ]
  },
  {
   "cell_type": "code",
   "execution_count": 10,
   "id": "9832097d-2fe6-4731-895e-a46ae425e55b",
   "metadata": {},
   "outputs": [
    {
     "name": "stdout",
     "output_type": "stream",
     "text": [
      "       Unique Values  Missing Values  Missing Percentage\n",
      "Claim              2               0                 0.0\n"
     ]
    }
   ],
   "source": [
    "# Menghitung jumlah nilai unik dan persentase nilai yang hilang\n",
    "unique_counts = df.nunique()\n",
    "missing_counts = df.isna().sum()\n",
    "missing_percentage = (missing_counts / len(df)) * 100\n",
    "\n",
    "# Membuat DataFrame untuk menampilkan hasil\n",
    "summary = pd.DataFrame({\n",
    "    'Unique Values': unique_counts,\n",
    "    'Missing Values': missing_counts,\n",
    "    'Missing Percentage': missing_percentage\n",
    "})\n",
    "\n",
    "# Menampilkan hasil\n",
    "print(summary)"
   ]
  },
  {
   "cell_type": "code",
   "execution_count": 11,
   "id": "9210371a-26f5-47fa-bfbf-3617fb113a6e",
   "metadata": {},
   "outputs": [
    {
     "name": "stdout",
     "output_type": "stream",
     "text": [
      "Nilai unik untuk kolom Claim:\n",
      "[1 0]\n",
      "\n",
      "\n"
     ]
    }
   ],
   "source": [
    "# Menampilkan nilai-nilai unik dari setiap kolom\n",
    "for col in df.columns:\n",
    "    print(f\"Nilai unik untuk kolom {col}:\")\n",
    "    print(df[col].unique())\n",
    "    print(\"\\n\")"
   ]
  },
  {
   "cell_type": "code",
   "execution_count": 12,
   "id": "36b2b0e6-58a2-42c1-a1be-b4be57ad9c9a",
   "metadata": {},
   "outputs": [
    {
     "name": "stdout",
     "output_type": "stream",
     "text": [
      "Claim    2\n",
      "dtype: int64\n"
     ]
    }
   ],
   "source": [
    "unique_counts = df.apply(lambda x: x[x >= 0].nunique() if pd.api.types.is_integer_dtype(x) else x.nunique())\n",
    "print(unique_counts)"
   ]
  },
  {
   "cell_type": "markdown",
   "id": "edf5c7da-65b1-4b80-8b2d-6aed94725454",
   "metadata": {},
   "source": [
    "Missing Values"
   ]
  },
  {
   "cell_type": "code",
   "execution_count": 13,
   "id": "a3c58d6e-fdd8-4c33-b6bc-5f5025b3bbe0",
   "metadata": {},
   "outputs": [
    {
     "data": {
      "image/png": "[encoded data removed]",
      "text/plain": [
       "<Figure size 1000x500 with 3 Axes>"
      ]
     },
     "metadata": {},
     "output_type": "display_data"
    }
   ],
   "source": [
    "msno.bar(df,color=\"dodgerblue\", sort=\"ascending\",figsize=(10,5), fontsize=12);"
   ]
  },
  {
   "cell_type": "code",
   "execution_count": null,
   "id": "810f2d8d-2429-4d35-984b-8b71d25a0723",
   "metadata": {},
   "outputs": [],
   "source": []
  },
  {
   "cell_type": "code",
   "execution_count": null,
   "id": "c3089d09-24c9-4ea0-aca2-a0d9e82b71b1",
   "metadata": {},
   "outputs": [],
   "source": []
  }
 ],
 "metadata": {
  "kernelspec": {
   "display_name": "Python 3 (ipykernel)",
   "language": "python",
   "name": "python3"
  },
  "language_info": {
   "codemirror_mode": {
    "name": "ipython",
    "version": 3
   },
   "file_extension": ".py",
   "mimetype": "text/x-python",
   "name": "python",
   "nbconvert_exporter": "python",
   "pygments_lexer": "ipython3",
   "version": "3.12.6"
  }
 },
 "nbformat": 4,
 "nbformat_minor": 5
}
